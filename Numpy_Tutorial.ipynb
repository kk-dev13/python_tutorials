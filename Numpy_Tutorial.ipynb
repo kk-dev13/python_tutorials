{
  "cells": [
    {
      "cell_type": "markdown",
      "metadata": {
        "id": "view-in-github",
        "colab_type": "text"
      },
      "source": [
        "<a href=\"https://colab.research.google.com/github/kk-dev13/python_tutorials/blob/main/Numpy_Tutorial.ipynb\" target=\"_parent\"><img src=\"https://colab.research.google.com/assets/colab-badge.svg\" alt=\"Open In Colab\"/></a>"
      ]
    },
    {
      "cell_type": "markdown",
      "metadata": {
        "id": "pC6T_r3OQvms"
      },
      "source": [
        "## Numpy Tutorials\n",
        "\n",
        "NumPy is a general-purpose array-processing package. It provides a high-performance multidimensional array object, and tools for working with these arrays. It is the fundamental package for scientific computing with Python\n",
        "\n",
        "### What is an array\n",
        "\n",
        "An array is a data structure that stores values of same data type. In Python, this is the main difference between arrays and lists. While python lists can contain values corresponding to different data types, arrays in python can only contain values corresponding to same data type"
      ]
    },
    {
      "cell_type": "code",
      "execution_count": 2,
      "metadata": {
        "id": "yFx8fUKzQvmz"
      },
      "outputs": [],
      "source": [
        "## initially Lets import numpy\n",
        "\n",
        "import numpy as np"
      ]
    },
    {
      "cell_type": "code",
      "execution_count": null,
      "metadata": {
        "id": "aEZRiAPvQvm2"
      },
      "outputs": [],
      "source": [
        "my_lst=[1,2,3,4,5]\n",
        "\n",
        "arr=np.array(my_lst)\n",
        "\n",
        "# It cannot act as lists of Python. \n",
        "my_lst1=[1,2,3,4,5,\"Kunal\"]  # It will convert the other data into string type as well\n",
        "arr1 = np.array(my_lst1)"
      ]
    },
    {
      "cell_type": "code",
      "execution_count": null,
      "metadata": {
        "id": "JzXvKTWwQvm3",
        "outputId": "c7c45cb0-4bb5-41f1-f03a-3cd22b5cf3cd",
        "colab": {
          "base_uri": "https://localhost:8080/"
        }
      },
      "outputs": [
        {
          "output_type": "stream",
          "name": "stdout",
          "text": [
            "<class 'numpy.int64'>\n",
            "<class 'numpy.str_'> <class 'numpy.str_'>\n"
          ]
        }
      ],
      "source": [
        "print(type(arr[1]))\n",
        "\n",
        "print(type(arr1[1]),type(arr1[5]))"
      ]
    },
    {
      "cell_type": "code",
      "execution_count": null,
      "metadata": {
        "id": "joK5e3zbQvm4",
        "outputId": "32536c66-7ae8-409e-e323-1557ca273b89",
        "colab": {
          "base_uri": "https://localhost:8080/"
        }
      },
      "outputs": [
        {
          "output_type": "stream",
          "name": "stdout",
          "text": [
            "<class 'numpy.ndarray'> <class 'numpy.ndarray'>\n",
            "(5,)\n"
          ]
        }
      ],
      "source": [
        "# Both are Numpy Arrays. Difference is in type of data\n",
        "print(type(arr), type(arr1))\n",
        "\n",
        "print(arr.shape)"
      ]
    },
    {
      "cell_type": "markdown",
      "source": [
        "# Multi-Dimensional Array"
      ],
      "metadata": {
        "id": "rTB8TDTPb3tt"
      }
    },
    {
      "cell_type": "code",
      "execution_count": null,
      "metadata": {
        "id": "yY3javb8Qvm5"
      },
      "outputs": [],
      "source": [
        "\n",
        "my_lst2=[1,2,3,4,5]\n",
        "my_lst3=[2,3,4,5,6]\n",
        "my_lst4=[9,7,6,8,9]\n",
        "\n",
        "arr2=np.array([my_lst2,my_lst3,my_lst4])"
      ]
    },
    {
      "cell_type": "code",
      "execution_count": null,
      "metadata": {
        "id": "7dv1DZLsQvm5",
        "outputId": "19fc9e96-62df-4104-8809-58d7e846aeb0",
        "colab": {
          "base_uri": "https://localhost:8080/"
        }
      },
      "outputs": [
        {
          "output_type": "stream",
          "name": "stdout",
          "text": [
            "[[1 2 3 4 5]\n",
            " [2 3 4 5 6]\n",
            " [9 7 6 8 9]]\n",
            "\n",
            "\n",
            "(3, 5)\n"
          ]
        }
      ],
      "source": [
        "print(arr2)\n",
        "\n",
        "print(\"\\n\")\n",
        "\n",
        "print(arr2.shape)"
      ]
    },
    {
      "cell_type": "markdown",
      "source": [
        "#### Reshaping the array"
      ],
      "metadata": {
        "id": "xiJXU3SDb-Pw"
      }
    },
    {
      "cell_type": "code",
      "source": [
        "# Data items will be the same\n",
        "print(arr2.reshape(5,3))\n",
        "\n",
        "print(\"\\n\")\n",
        "\n",
        "print(arr2.reshape(1,15))"
      ],
      "metadata": {
        "colab": {
          "base_uri": "https://localhost:8080/"
        },
        "id": "bBeGelZmZlZG",
        "outputId": "3acab00c-e3bd-4e62-daf6-56ec8cad859f"
      },
      "execution_count": null,
      "outputs": [
        {
          "output_type": "stream",
          "name": "stdout",
          "text": [
            "[[1 2 3]\n",
            " [4 5 2]\n",
            " [3 4 5]\n",
            " [6 9 7]\n",
            " [6 8 9]]\n",
            "\n",
            "\n",
            "[[1 2 3 4 5 2 3 4 5 6 9 7 6 8 9]]\n"
          ]
        }
      ]
    },
    {
      "cell_type": "code",
      "source": [
        "# If we try reshaping such that number of elements is not equal to original, it will give an error\n",
        "print(arr2.reshape(4,3))  # Elements of elements - 4x3 = 12, not equal to (5x3) = 15"
      ],
      "metadata": {
        "id": "KNOewFUjpX4O"
      },
      "execution_count": null,
      "outputs": []
    },
    {
      "cell_type": "markdown",
      "source": [
        "# Indexing"
      ],
      "metadata": {
        "id": "E7bnYnuAbree"
      }
    },
    {
      "cell_type": "code",
      "execution_count": null,
      "metadata": {
        "id": "azJGAWzhQvm-",
        "outputId": "7b88ba14-b3bb-438d-fad8-d8c2080446e1",
        "colab": {
          "base_uri": "https://localhost:8080/"
        }
      },
      "outputs": [
        {
          "output_type": "stream",
          "name": "stdout",
          "text": [
            "[[2 3]\n",
            " [9 7]]\n",
            "\n",
            "\n",
            "[[4 5]\n",
            " [5 6]\n",
            " [8 9]]\n"
          ]
        }
      ],
      "source": [
        "print(arr2[1:,:2])  \n",
        "\n",
        "print(\"\\n\")\n",
        "\n",
        "print(arr2[:,3:]) "
      ]
    },
    {
      "cell_type": "markdown",
      "source": [
        "# Operations in Array"
      ],
      "metadata": {
        "id": "YLacV4c6hPqh"
      }
    },
    {
      "cell_type": "code",
      "execution_count": null,
      "metadata": {
        "id": "WIdgg335QvnA",
        "outputId": "0ee61319-f8d3-4212-e7f7-23e6cae357e9",
        "colab": {
          "base_uri": "https://localhost:8080/"
        }
      },
      "outputs": [
        {
          "output_type": "stream",
          "name": "stdout",
          "text": [
            "[ True False False False False]\n"
          ]
        }
      ],
      "source": [
        "print(arr<2)\n",
        "\n",
        "print()"
      ]
    },
    {
      "cell_type": "code",
      "source": [
        "# Matrix Multiplication\n",
        "\n",
        "print(arr)\n",
        "print(\"\\n\")\n",
        "\n",
        "print(arr2)\n",
        "print(\"\\n\")\n",
        "\n",
        "print(arr * arr2)"
      ],
      "metadata": {
        "colab": {
          "base_uri": "https://localhost:8080/"
        },
        "id": "pET5Gu1_iw-S",
        "outputId": "98a0b2f1-8538-4ce5-bd9a-6435e866b97b"
      },
      "execution_count": null,
      "outputs": [
        {
          "output_type": "stream",
          "name": "stdout",
          "text": [
            "[1 2 3 4 5]\n",
            "\n",
            "\n",
            "[[1 2 3 4 5]\n",
            " [2 3 4 5 6]\n",
            " [9 7 6 8 9]]\n",
            "\n",
            "\n",
            "[[ 1  4  9 16 25]\n",
            " [ 2  6 12 20 30]\n",
            " [ 9 14 18 32 45]]\n"
          ]
        }
      ]
    },
    {
      "cell_type": "markdown",
      "source": [
        "# Functions of Numpy"
      ],
      "metadata": {
        "id": "qpy1KnwFfs1A"
      }
    },
    {
      "cell_type": "markdown",
      "source": [
        "##### linspace()"
      ],
      "metadata": {
        "id": "XpZtk-T3fwvI"
      }
    },
    {
      "cell_type": "markdown",
      "source": [
        "##### ones()"
      ],
      "metadata": {
        "id": "8bNOLzTpoxmA"
      }
    },
    {
      "cell_type": "code",
      "source": [
        "print(np.ones(4))\n",
        "\n",
        "print(\"\\n\")\n",
        "\n",
        "print(np.ones((2,5), dtype=int))"
      ],
      "metadata": {
        "colab": {
          "base_uri": "https://localhost:8080/"
        },
        "id": "4Ghz9S6Oo0Hv",
        "outputId": "6a4513bd-5f19-4001-8612-e16756a233e7"
      },
      "execution_count": null,
      "outputs": [
        {
          "output_type": "stream",
          "name": "stdout",
          "text": [
            "[1. 1. 1. 1.]\n",
            "\n",
            "\n",
            "[[1 1 1 1 1]\n",
            " [1 1 1 1 1]]\n"
          ]
        }
      ]
    },
    {
      "cell_type": "markdown",
      "source": [
        "##### Random Distribution"
      ],
      "metadata": {
        "id": "G9r-bXWavved"
      }
    },
    {
      "cell_type": "code",
      "execution_count": 3,
      "metadata": {
        "id": "9i8pnpewQvnE",
        "outputId": "d94f108c-bd74-491b-a035-8882f7fb0f37",
        "colab": {
          "base_uri": "https://localhost:8080/"
        }
      },
      "outputs": [
        {
          "output_type": "execute_result",
          "data": {
            "text/plain": [
              "array([[0.808915  , 0.13028745, 0.68379678],\n",
              "       [0.3393548 , 0.80404161, 0.17818586],\n",
              "       [0.15329111, 0.81698725, 0.89658371]])"
            ]
          },
          "metadata": {},
          "execution_count": 3
        }
      ],
      "source": [
        "## random distribution\n",
        "np.random.rand(3,3)"
      ]
    },
    {
      "cell_type": "code",
      "execution_count": 4,
      "metadata": {
        "id": "s4Q0xNX_QvnE"
      },
      "outputs": [],
      "source": [
        "arr_ex=np.random.randn(4,4)"
      ]
    },
    {
      "cell_type": "code",
      "execution_count": 5,
      "metadata": {
        "id": "-64MjW8EQvnE",
        "outputId": "fa1bf970-ad74-4715-edd9-d97a7fcc7bdb",
        "colab": {
          "base_uri": "https://localhost:8080/"
        }
      },
      "outputs": [
        {
          "output_type": "execute_result",
          "data": {
            "text/plain": [
              "array([[ 0.37660217,  0.68278257, -0.14823912,  1.28108016],\n",
              "       [-0.59576668, -2.2514416 ,  0.54124049, -1.10684587],\n",
              "       [-0.13558214, -0.00604385, -0.33322063, -1.06816748],\n",
              "       [ 1.01539089, -2.17485417,  1.54373817, -0.19788582]])"
            ]
          },
          "metadata": {},
          "execution_count": 5
        }
      ],
      "source": [
        "arr_ex"
      ]
    },
    {
      "cell_type": "code",
      "execution_count": 6,
      "metadata": {
        "id": "yS2p1rANQvnF"
      },
      "outputs": [],
      "source": [
        "import seaborn as sns\n",
        "import pandas as pd"
      ]
    },
    {
      "cell_type": "code",
      "execution_count": 7,
      "metadata": {
        "id": "h7ryzwYLQvnF",
        "outputId": "8478cd9a-8bb7-423b-9297-a822e840e7f6",
        "colab": {
          "base_uri": "https://localhost:8080/",
          "height": 337
        }
      },
      "outputs": [
        {
          "output_type": "stream",
          "name": "stderr",
          "text": [
            "/usr/local/lib/python3.7/dist-packages/seaborn/distributions.py:2619: FutureWarning: `distplot` is a deprecated function and will be removed in a future version. Please adapt your code to use either `displot` (a figure-level function with similar flexibility) or `histplot` (an axes-level function for histograms).\n",
            "  warnings.warn(msg, FutureWarning)\n"
          ]
        },
        {
          "output_type": "execute_result",
          "data": {
            "text/plain": [
              "<matplotlib.axes._subplots.AxesSubplot at 0x7f98ec2e3790>"
            ]
          },
          "metadata": {},
          "execution_count": 7
        },
        {
          "output_type": "display_data",
          "data": {
            "text/plain": [
              "<Figure size 432x288 with 1 Axes>"
            ],
            "image/png": "[encoded data removed]"
          },
          "metadata": {
            "needs_background": "light"
          }
        }
      ],
      "source": [
        "sns.distplot(pd.DataFrame(arr_ex.reshape(16,1)))"
      ]
    },
    {
      "cell_type": "markdown",
      "source": [
        "##### Random Integer"
      ],
      "metadata": {
        "id": "w1Gp9guWwqCK"
      }
    },
    {
      "cell_type": "code",
      "execution_count": 8,
      "metadata": {
        "id": "VRA9Z28tQvnG",
        "outputId": "1a7735d4-1cd0-4434-c773-3a2b84d4700e",
        "colab": {
          "base_uri": "https://localhost:8080/"
        }
      },
      "outputs": [
        {
          "output_type": "execute_result",
          "data": {
            "text/plain": [
              "array([55, 46, 74,  4, 47, 21, 56, 20])"
            ]
          },
          "metadata": {},
          "execution_count": 8
        }
      ],
      "source": [
        "np.random.randint(0,100,8)"
      ]
    },
    {
      "cell_type": "code",
      "execution_count": null,
      "metadata": {
        "id": "HdALPe9oQvnG",
        "outputId": "e74f1e6d-0ee3-4ad4-ecaf-b28e78699eec"
      },
      "outputs": [
        {
          "data": {
            "text/plain": [
              "array([[0.07005997, 0.98540348, 0.98450756, 0.65948775, 0.34944308]])"
            ]
          },
          "execution_count": 75,
          "metadata": {},
          "output_type": "execute_result"
        }
      ],
      "source": [
        "np.random.random_sample((1,5))"
      ]
    },
    {
      "cell_type": "code",
      "execution_count": null,
      "metadata": {
        "id": "k8sgs2b7QvnG"
      },
      "outputs": [],
      "source": [
        ""
      ]
    }
  ],
  "metadata": {
    "kernelspec": {
      "display_name": "Python 3",
      "language": "python",
      "name": "python3"
    },
    "language_info": {
      "codemirror_mode": {
        "name": "ipython",
        "version": 3
      },
      "file_extension": ".py",
      "mimetype": "text/x-python",
      "name": "python",
      "nbconvert_exporter": "python",
      "pygments_lexer": "ipython3",
      "version": "3.6.7"
    },
    "colab": {
      "name": "Numpy Tutorial.ipynb",
      "provenance": [],
      "include_colab_link": true
    }
  },
  "nbformat": 4,
  "nbformat_minor": 0
}